{
 "nbformat": 4,
 "nbformat_minor": 2,
 "metadata": {
  "language_info": {
   "name": "python",
   "codemirror_mode": {
    "name": "ipython",
    "version": 3
   },
   "version": "3.7.4-final"
  },
  "orig_nbformat": 2,
  "file_extension": ".py",
  "mimetype": "text/x-python",
  "name": "python",
  "npconvert_exporter": "python",
  "pygments_lexer": "ipython3",
  "version": 3,
  "kernelspec": {
   "name": "python37464bitbasecondab8bef61b409f4f95bfba20658d1e2f0f",
   "display_name": "Python 3.7.4 64-bit ('base': conda)"
  }
 },
 "cells": [
  {
   "cell_type": "code",
   "execution_count": 122,
   "metadata": {},
   "outputs": [],
   "source": [
    "import requests"
   ]
  },
  {
   "cell_type": "code",
   "execution_count": 123,
   "metadata": {},
   "outputs": [],
   "source": [
    "headers = {'Content-Type': 'application/json'}"
   ]
  },
  {
   "cell_type": "code",
   "execution_count": 124,
   "metadata": {},
   "outputs": [],
   "source": [
    "body = {\n",
    "\t\"username\": \"super.user\", \n",
    "\t\"password\": \"syn45ia\", \n",
    "\t\"rememberMe\": False\n",
    "}"
   ]
  },
  {
   "cell_type": "code",
   "execution_count": 125,
   "metadata": {},
   "outputs": [],
   "source": [
    "response = requests.post('http://storeman1.intercax.com:9000/signIn', json=body, headers=headers) "
   ]
  },
  {
   "cell_type": "code",
   "execution_count": null,
   "metadata": {},
   "outputs": [],
   "source": []
  },
  {
   "cell_type": "code",
   "execution_count": 126,
   "metadata": {},
   "outputs": [
    {
     "name": "stdout",
     "output_type": "stream",
     "text": "{\"statusCode\":201,\"headers\":{},\"uri\":\"\",\"resources\":{\"token\":\"eyJ0eXAiOiJKV1QiLCJhbGciOiJIUzI1NiJ9.eyJzdWIiOiIxLXp5RCtrb1MwdmFjZSsrTmkzYjU3WnlPOXhBVHAxODU5UXFoS0VlaVlcL2dibTdqYkF3Z1liREFnRVpUVGJQdFN4MkhZaFRqNEY2K245XC9XNGZyWk5kY0tUUU1GZHA4YjQ9IiwiaXNzIjoiU3luZGVpYS1DbG91ZC1zaWxob3VldHRlIiwiZXhwIjoxNTgyMTcxMTY5LCJpYXQiOjE1ODIxMjc5NjksImp0aSI6IjhkNDhkYTI5YTc3ZjFkMzk2YTZkZjk0OWE4NDAxOTdhNDRkNTE3NzFiNGVkNmRhN2E3MmVjZTg3OWMwYTYzMjAzZTYyYWRlYzg1M2U2MDExZWFjYTQ0Y2E1ODUyZmNmOWZhZjA5NjNlZjYzN2MxMTA4NmRmOWQ1ZGYwNWYzNWZiNzQ4NDliYzE5OWJjYWE1YmNlNGNkZmM4MTQwM2VjMDZhZjI4OGE2OWRkNjdjYThmOTBlYzRiNzFiZTQzMzY3ZGRlZjc0MGQ2YmRiMjJmZWU0NmY1MzE4MTI0YmM0MWRkMGY0YTI3MzA2MjdmZjZlNzFhMTgwZDY4YjhkNTA1ZWEifQ.PlRaGHkTB7wXl4iJ38XcNQ7Vev2oe7TI9ucNRKVNfJc\"}}\n"
    }
   ],
   "source": [
    "print(response.text)"
   ]
  },
  {
   "cell_type": "code",
   "execution_count": null,
   "metadata": {},
   "outputs": [],
   "source": []
  }
 ]
}