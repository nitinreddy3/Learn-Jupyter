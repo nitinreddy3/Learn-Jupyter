{
 "nbformat": 4,
 "nbformat_minor": 2,
 "metadata": {
  "language_info": {
   "name": "python",
   "codemirror_mode": {
    "name": "ipython",
    "version": 3
   },
   "version": "3.7.4-final"
  },
  "orig_nbformat": 2,
  "file_extension": ".py",
  "mimetype": "text/x-python",
  "name": "python",
  "npconvert_exporter": "python",
  "pygments_lexer": "ipython3",
  "version": 3,
  "kernelspec": {
   "name": "python37464bitbasecondab8bef61b409f4f95bfba20658d1e2f0f",
   "display_name": "Python 3.7.4 64-bit ('base': conda)"
  }
 },
 "cells": [
  {
   "cell_type": "code",
   "execution_count": 1,
   "metadata": {},
   "outputs": [],
   "source": [
    "import requests"
   ]
  },
  {
   "cell_type": "code",
   "execution_count": 2,
   "metadata": {},
   "outputs": [],
   "source": [
    "headers = {'Content-Type': 'application/json'}"
   ]
  },
  {
   "cell_type": "code",
   "execution_count": 3,
   "metadata": {},
   "outputs": [],
   "source": [
    "body = {\n",
    "\t\"username\": \"super.user\", \n",
    "\t\"password\": \"syn45ia\", \n",
    "\t\"rememberMe\": False\n",
    "}"
   ]
  },
  {
   "cell_type": "code",
   "execution_count": 4,
   "metadata": {},
   "outputs": [],
   "source": [
    "response = requests.post('http://storeman0.intercax.com:9000/signIn', json=body, headers=headers) "
   ]
  },
  {
   "cell_type": "code",
   "execution_count": null,
   "metadata": {},
   "outputs": [],
   "source": []
  },
  {
   "cell_type": "code",
   "execution_count": 5,
   "metadata": {},
   "outputs": [
    {
     "name": "stdout",
     "output_type": "stream",
     "text": "{\"statusCode\":201,\"headers\":{},\"uri\":\"\",\"resources\":{\"token\":\"eyJ0eXAiOiJKV1QiLCJhbGciOiJIUzI1NiJ9.eyJzdWIiOiIxLTdNbFNRZ3FCTlhvcUZWZ2pKSk9yWDE1SGJxZ1hRbjJcL1V4OEpTZ0ZQU1F0OG9QNFVIRlJIdjVOUUUwcGg2bmgyUnV3Sk5hUEtIdjdOV0ZUQUZRM2d0MUlMQXZ4cGhIaz0iLCJpc3MiOiJTeW5kZWlhLUNsb3VkLXNpbGhvdWV0dGUiLCJleHAiOjE1ODIzMDcwNzcsImlhdCI6MTU4MjI2Mzg3NywianRpIjoiMWQyNzc1MmI3MjY5MmU5MTdhY2QwNzI0Mzk1M2I4ZDBkNWUyYmZkNzBiMzI0OTg2MDAxMDg2MDg4NTEyYmVjNzBmNTkxZThhMzk3MTljZjFiNTdiNzFlODU4OTA4OTlkZjhkYjFkNDUyMDlkYmZkOWJmMTBkMWIzODUxYTc1NWU2NGM4MzFjMWE2NTMwNTA2YTFjZWQyMzg0YzRhMTMwMDUzNjVjMTI0NmEyYzE4YzJmNTkxMmU2NGJiM2YxZjY0MDRmMTZlMjc4MDQ1YjdkNmVjZTQyMjUyNzkwN2Q0NmYyYTg3OGViN2JkZDNiNWNhOWM0NDFjZDA5Njc1MmRmYSJ9.u8th1hoTVWVud3OhIjUGrwyccie0cysqV7AWw_56kC4\"}}\n"
    }
   ],
   "source": [
    "print(response.text)"
   ]
  },
  {
   "cell_type": "code",
   "execution_count": null,
   "metadata": {},
   "outputs": [],
   "source": []
  }
 ]
}